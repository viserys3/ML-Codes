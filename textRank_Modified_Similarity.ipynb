{
 "cells": [
  {
   "cell_type": "code",
   "execution_count": 25,
   "metadata": {},
   "outputs": [
    {
     "name": "stderr",
     "output_type": "stream",
     "text": [
      "[nltk_data] Downloading package stopwords to /home/aditya/nltk_data...\n",
      "[nltk_data]   Package stopwords is already up-to-date!\n"
     ]
    },
    {
     "data": {
      "text/plain": [
       "True"
      ]
     },
     "execution_count": 25,
     "metadata": {},
     "output_type": "execute_result"
    }
   ],
   "source": [
    "import numpy as np\n",
    "import nltk\n",
    "nltk.download('stopwords')"
   ]
  },
  {
   "cell_type": "code",
   "execution_count": 26,
   "metadata": {},
   "outputs": [
    {
     "name": "stdout",
     "output_type": "stream",
     "text": [
      "{'This': 1, 'is': 1, 'a': 1, 'good': 1, 'sentence': 1}\n"
     ]
    }
   ],
   "source": [
    "def termFrequency(sentence):\n",
    "    wordlist=sentence.split()\n",
    "    wordfreq = [wordlist.count(p) for p in wordlist]\n",
    "    freqDict = dict(list(zip(wordlist,wordfreq)))\n",
    "    aux = [[key,freqDict[key]] for key in freqDict]\n",
    "    #aux.sort()\n",
    "    #aux.reverse()\n",
    "    return freqDict\n",
    "sortedDict = termFrequency(\"This is a good sentence\")\n",
    "#for s in sortedDict: print(str(s))\n",
    "print(sortedDict)"
   ]
  },
  {
   "cell_type": "code",
   "execution_count": 27,
   "metadata": {},
   "outputs": [
    {
     "name": "stdout",
     "output_type": "stream",
     "text": [
      "38\n"
     ]
    }
   ],
   "source": [
    "import spacy\n",
    "import en_core_web_sm\n",
    "nlp = en_core_web_sm.load()\n",
    "content = '''\n",
    "By MATT SCHWARTZ in Houston and WENDELL JAMIESON in New York Daily News Writers\\n\\nSaturday, October 14th 1995, 4:22AM\\n\\nBleeding from a massive chest wound, Tejano star Selena cried, \"Help me! Help me! I\\'ve been shot!\" and then named her killer with her dying breath.\\n\\nShaken witnesses yesterday told a spellbound Houston courtroom how the blood-covered, mortally wounded 23-year-old Hispanic singing sensation burst into the lobby of the Corpus Christi Days Inn last March 31.\\n\\nGasping for breath, Selena told motel workers that Yolanda Saldivar the president of her fan club shot her once in the back. She begged, \"Close the door or she will shoot me again,\" the witnesses said.\\n\\nThe testimony came on the third day of Saldivar\\'s trial on charges she murdered Selena with a shot from a .38-caliber revolver when the star tried to fire her for embezzling $30,000 from two boutiques she managed for the singer.\\n\\nAs a paramedic and motel workers recounted Selena\\'s last desperate moments, her mother, father and brother sobbed quietly. Saldivar, as she has throughout the trial, stared blankly.\\n\\nRuben Deleon, the motel\\'s sales director, said he knelt over the dying star and asked who shot her.\\n\\n\"She said \\'Yolanda Saldivar in room 158,\\' \" Deleon said.\\n\\n\"She was yelling, \\'Help me! Help me! I\\'ve been shot,\\' \" said Rosalinda Gonzalez, an assistant manager. \"I asked who shot her. She said the lady in room 158. She moaned. Her eyes rolled up.\"\\n\\nFront desk clerk Shawna Vela said she dialed 911 and took the phone with her as she kneeled over the fallen singer, asking her what happened.\\n\\n\"She said \\'Yolanda,\\' she said \\'In room 158,\\' \" Vela testified.\\n\\nThe first paramedic on the scene, Richard Fredrickson, testified that he arrived just two minutes after the call but it was already too late.\\n\\n\"The girl was covered with blood,\" he remembered. \"Blood was thick from her neck to her knees, all the way around both sides.\"\\n\\nFredrickson couldn\\'t even see the mortal wound until he cut off Selena\\'s sweatshirt. He felt for a pulse in her neck but could feel only twitching muscles, he said.\\n\\nMinutes later, as he rode in an ambulance with the now unconscious Selena, he unclenched the dying woman\\'s fist and made an ironic discovery.\\n\\n\"When I opened it, a ring fell out,\" he said. \"It was covered with blood.\"\\n\\nThe 14-karat gold and diamond ring, topped with a white-gold egg, was a gift from the Grammy winner\\'s boutique employes and Saldivar. Police have said Saldivar demanded the ring back. But before Selena could hand it over, she was shot.\\n\\nThe singer, whose full name was Selena Quintanilla Perez, was born around Easter and collected decorative eggs.\\n\\nThe defense claims Saldivar, 35, was hysterical and shot Selena by accident. Prosecutors say it was deliberate.\n",
    "'''\n",
    "doc = nlp(content)\n",
    "temp = doc.sents\n",
    "sentences = []\n",
    "for sent in temp:\n",
    "    sentences.append(sent.text)\n",
    "print(len(sentences))"
   ]
  },
  {
   "cell_type": "code",
   "execution_count": 28,
   "metadata": {},
   "outputs": [],
   "source": [
    "def getSentenceCount(document, word):\n",
    "    ct=0\n",
    "    for sent in document:\n",
    "        wordList = sent.split()\n",
    "        if wordList.count(word)>0:\n",
    "            ct+=1\n",
    "    return ct\n",
    "#count = getSentenceCount(sentences, \"At\")\n",
    "#print(count)"
   ]
  },
  {
   "cell_type": "code",
   "execution_count": 30,
   "metadata": {},
   "outputs": [],
   "source": [
    "def inverseTermFrequency(document, sentence):\n",
    "    d=len(document)\n",
    "    freqDict = termFrequency(sentence)\n",
    "    sentCount = [getSentenceCount(document,key) for key in freqDict]\n",
    "    keyList = freqDict.keys()\n",
    "    idfDict = dict(list(zip(keyList,sentCount)))\n",
    "    #freqDict,aux = termFrequency(sentence)\n",
    "    #sentCount = [getSentenceCount(document, key[0]) for key in freqDict]\n",
    "    #keyList = [key[0] for key in freqDict]\n",
    "    #idfDict = dict(list(zip(keyList, sentCount)))\n",
    "    #aux = [[key,idfDict[key]] for key in idfDict]\n",
    "    #aux.sort()\n",
    "    #aux.reverse()\n",
    "    return idfDict\n",
    "#sortedDict = inverseTermFrequency(sentences, \"At least 54 people were arrested on Monday for allegedly trying to clear the barricades\")\n",
    "#for key in sortedDict: print(sortedDict[key])\n",
    "#print(sortedDict)"
   ]
  },
  {
   "cell_type": "code",
   "execution_count": 31,
   "metadata": {},
   "outputs": [],
   "source": [
    "from nltk.corpus import brown, stopwords\n",
    "from nltk.cluster.util import cosine_distance\n",
    "def sentence_similarity(sent1,sent2, stopwords=None):\n",
    "    sent=sent1.split() + sent2.split()\n",
    "    termFrequency1 = termFrequency(sent1)\n",
    "    termFrequency2 = termFrequency(sent2)\n",
    "    idf = inverseTermFrequency(sentences, sent1+sent2)\n",
    "    #print(sent)\n",
    "    sum1 = 0\n",
    "    for word in sent:\n",
    "        a = 0\n",
    "        if word in termFrequency1.keys():\n",
    "            a = termFrequency1[word]\n",
    "        b = 0\n",
    "        if word in termFrequency2.keys():\n",
    "            b = termFrequency2[word]\n",
    "        c = len(sentences)/idf[word]\n",
    "        sum1+= a*b*c*c\n",
    "    sum2 = 0\n",
    "    for word in sent1.split():\n",
    "        a = termFrequency1[word]\n",
    "        b = len(sentences)/idf[word]\n",
    "        sum2+= a*b*b\n",
    "    sum3 = 0\n",
    "    for word in sent2.split():\n",
    "        a = termFrequency2[word]\n",
    "        b = len(sentences)/idf[word]\n",
    "        sum3+= a*b*b\n",
    "    return sum1/(np.sqrt(sum2)*np.sqrt(sum3))\n",
    "    #return 0\n",
    "    \n",
    "#simi = sentence_similarity(\"Bernstein, 41, and her husband, Doug Flaumenbaum, 33, both recovering crack and heroin addicts, were among three dozen men and women who regained custody of their children.\" , \"They are the third such group to graduate since the program's inauguration in 1998.\\n\\n\")\n",
    "#print(simi)"
   ]
  },
  {
   "cell_type": "code",
   "execution_count": 32,
   "metadata": {},
   "outputs": [
    {
     "name": "stdout",
     "output_type": "stream",
     "text": [
      "[[0.         0.         0.         ... 0.01318831 0.01701529 0.        ]\n",
      " [0.         0.         0.22331074 ... 0.01702501 0.02196532 0.        ]\n",
      " [0.         0.02911354 0.         ... 0.         0.         0.        ]\n",
      " ...\n",
      " [0.00979549 0.02025327 0.         ... 0.         0.11141357 0.04339498]\n",
      " [0.01077671 0.02228205 0.         ... 0.09500533 0.         0.01591396]\n",
      " [0.         0.         0.         ... 0.06002853 0.02581587 0.        ]]\n"
     ]
    },
    {
     "name": "stderr",
     "output_type": "stream",
     "text": [
      "/home/aditya/Environments/python_ml/lib/python3.6/site-packages/ipykernel_launcher.py:11: RuntimeWarning: invalid value encountered in true_divide\n",
      "  # This is added back by InteractiveShellApp.init_path()\n"
     ]
    }
   ],
   "source": [
    "stop_words=stopwords.words('english')\n",
    "def build_similarity_matrix(sentences, stopwords=None):\n",
    "    S= np.zeros((len(sentences), len(sentences)))\n",
    "    for idx1 in range(len(sentences)):\n",
    "        for idx2 in range(len(sentences)):\n",
    "            if idx1 == idx2:\n",
    "                continue\n",
    " \n",
    "            S[idx1][idx2] = sentence_similarity(sentences[idx1], \" \"+sentences[idx2], stop_words)\n",
    "    for idx in range(len(S)):\n",
    "        S[idx] /= S[idx].sum()\n",
    " \n",
    "    return S\n",
    "S=build_similarity_matrix(sentences, stopwords)\n",
    "print(S)"
   ]
  },
  {
   "cell_type": "code",
   "execution_count": 33,
   "metadata": {},
   "outputs": [],
   "source": [
    "def pagerank(A, eps=0.0001, d=0.85):\n",
    "    P = np.ones(len(A)) / len(A)\n",
    "    while True:\n",
    "        new_P = np.ones(len(A)) * (1 - d) / len(A) + d * A.T.dot(P)\n",
    "        delta = abs(new_P - P).sum()\n",
    "        if delta <= eps:\n",
    "            return new_P\n",
    "        P = new_P\n",
    " \n",
    "#results = pagerank(S)"
   ]
  },
  {
   "cell_type": "code",
   "execution_count": 34,
   "metadata": {},
   "outputs": [],
   "source": [
    "from operator import itemgetter\n",
    "#sentence_ranks = pagerank(S)"
   ]
  },
  {
   "cell_type": "code",
   "execution_count": 35,
   "metadata": {
    "scrolled": true
   },
   "outputs": [
    {
     "name": "stderr",
     "output_type": "stream",
     "text": [
      "/home/aditya/Environments/python_ml/lib/python3.6/site-packages/ipykernel_launcher.py:11: RuntimeWarning: invalid value encountered in true_divide\n",
      "  # This is added back by InteractiveShellApp.init_path()\n"
     ]
    },
    {
     "ename": "KeyboardInterrupt",
     "evalue": "",
     "output_type": "error",
     "traceback": [
      "\u001b[0;31m---------------------------------------------------------------------------\u001b[0m",
      "\u001b[0;31mKeyboardInterrupt\u001b[0m                         Traceback (most recent call last)",
      "\u001b[0;32m<ipython-input-35-117ceb7a75c5>\u001b[0m in \u001b[0;36m<module>\u001b[0;34m\u001b[0m\n\u001b[1;32m      8\u001b[0m     \u001b[0msummary\u001b[0m \u001b[0;34m=\u001b[0m \u001b[0mitemgetter\u001b[0m\u001b[0;34m(\u001b[0m\u001b[0;34m*\u001b[0m\u001b[0mselected_sentences\u001b[0m\u001b[0;34m)\u001b[0m\u001b[0;34m(\u001b[0m\u001b[0msentences\u001b[0m\u001b[0;34m)\u001b[0m\u001b[0;34m\u001b[0m\u001b[0;34m\u001b[0m\u001b[0m\n\u001b[1;32m      9\u001b[0m     \u001b[0;32mreturn\u001b[0m \u001b[0msummary\u001b[0m\u001b[0;34m\u001b[0m\u001b[0;34m\u001b[0m\u001b[0m\n\u001b[0;32m---> 10\u001b[0;31m \u001b[0;32mfor\u001b[0m \u001b[0midx\u001b[0m\u001b[0;34m,\u001b[0m \u001b[0msentence\u001b[0m \u001b[0;32min\u001b[0m \u001b[0menumerate\u001b[0m\u001b[0;34m(\u001b[0m\u001b[0mtextrank\u001b[0m\u001b[0;34m(\u001b[0m\u001b[0msentences\u001b[0m\u001b[0;34m,\u001b[0m \u001b[0mstopwords\u001b[0m\u001b[0;34m=\u001b[0m\u001b[0mstopwords\u001b[0m\u001b[0;34m.\u001b[0m\u001b[0mwords\u001b[0m\u001b[0;34m(\u001b[0m\u001b[0;34m'english'\u001b[0m\u001b[0;34m)\u001b[0m\u001b[0;34m)\u001b[0m\u001b[0;34m)\u001b[0m\u001b[0;34m:\u001b[0m\u001b[0;34m\u001b[0m\u001b[0;34m\u001b[0m\u001b[0m\n\u001b[0m\u001b[1;32m     11\u001b[0m     \u001b[0mprint\u001b[0m\u001b[0;34m(\u001b[0m\u001b[0;34m\"%s. %s\"\u001b[0m \u001b[0;34m%\u001b[0m \u001b[0;34m(\u001b[0m\u001b[0;34m(\u001b[0m\u001b[0midx\u001b[0m \u001b[0;34m+\u001b[0m \u001b[0;36m1\u001b[0m\u001b[0;34m)\u001b[0m\u001b[0;34m,\u001b[0m \u001b[0;34m' '\u001b[0m\u001b[0;34m.\u001b[0m\u001b[0mjoin\u001b[0m\u001b[0;34m(\u001b[0m\u001b[0msentence\u001b[0m\u001b[0;34m)\u001b[0m\u001b[0;34m)\u001b[0m\u001b[0;34m)\u001b[0m\u001b[0;34m\u001b[0m\u001b[0;34m\u001b[0m\u001b[0m\n",
      "\u001b[0;32m<ipython-input-35-117ceb7a75c5>\u001b[0m in \u001b[0;36mtextrank\u001b[0;34m(sentences, top_n, stopwords)\u001b[0m\n\u001b[1;32m      1\u001b[0m \u001b[0;32mdef\u001b[0m \u001b[0mtextrank\u001b[0m\u001b[0;34m(\u001b[0m\u001b[0msentences\u001b[0m\u001b[0;34m,\u001b[0m \u001b[0mtop_n\u001b[0m\u001b[0;34m=\u001b[0m\u001b[0;36m5\u001b[0m\u001b[0;34m,\u001b[0m\u001b[0mstopwords\u001b[0m\u001b[0;34m=\u001b[0m\u001b[0;32mNone\u001b[0m\u001b[0;34m)\u001b[0m\u001b[0;34m:\u001b[0m\u001b[0;34m\u001b[0m\u001b[0;34m\u001b[0m\u001b[0m\n\u001b[1;32m      2\u001b[0m     \u001b[0mS\u001b[0m \u001b[0;34m=\u001b[0m \u001b[0mbuild_similarity_matrix\u001b[0m\u001b[0;34m(\u001b[0m\u001b[0msentences\u001b[0m\u001b[0;34m,\u001b[0m \u001b[0mstop_words\u001b[0m\u001b[0;34m)\u001b[0m\u001b[0;34m\u001b[0m\u001b[0;34m\u001b[0m\u001b[0m\n\u001b[0;32m----> 3\u001b[0;31m     \u001b[0msentence_ranks\u001b[0m \u001b[0;34m=\u001b[0m \u001b[0mpagerank\u001b[0m\u001b[0;34m(\u001b[0m\u001b[0mS\u001b[0m\u001b[0;34m)\u001b[0m\u001b[0;34m\u001b[0m\u001b[0;34m\u001b[0m\u001b[0m\n\u001b[0m\u001b[1;32m      4\u001b[0m \u001b[0;34m\u001b[0m\u001b[0m\n\u001b[1;32m      5\u001b[0m     \u001b[0;31m# Sort the sentence ranks\u001b[0m\u001b[0;34m\u001b[0m\u001b[0;34m\u001b[0m\u001b[0;34m\u001b[0m\u001b[0m\n",
      "\u001b[0;32m<ipython-input-33-5bf5cfcf1c74>\u001b[0m in \u001b[0;36mpagerank\u001b[0;34m(A, eps, d)\u001b[0m\n\u001b[1;32m      6\u001b[0m         \u001b[0;32mif\u001b[0m \u001b[0mdelta\u001b[0m \u001b[0;34m<=\u001b[0m \u001b[0meps\u001b[0m\u001b[0;34m:\u001b[0m\u001b[0;34m\u001b[0m\u001b[0;34m\u001b[0m\u001b[0m\n\u001b[1;32m      7\u001b[0m             \u001b[0;32mreturn\u001b[0m \u001b[0mnew_P\u001b[0m\u001b[0;34m\u001b[0m\u001b[0;34m\u001b[0m\u001b[0m\n\u001b[0;32m----> 8\u001b[0;31m         \u001b[0mP\u001b[0m \u001b[0;34m=\u001b[0m \u001b[0mnew_P\u001b[0m\u001b[0;34m\u001b[0m\u001b[0;34m\u001b[0m\u001b[0m\n\u001b[0m\u001b[1;32m      9\u001b[0m \u001b[0;34m\u001b[0m\u001b[0m\n\u001b[1;32m     10\u001b[0m \u001b[0;31m#results = pagerank(S)\u001b[0m\u001b[0;34m\u001b[0m\u001b[0;34m\u001b[0m\u001b[0;34m\u001b[0m\u001b[0m\n",
      "\u001b[0;31mKeyboardInterrupt\u001b[0m: "
     ]
    }
   ],
   "source": [
    "def textrank(sentences, top_n=5,stopwords=None):\n",
    "    S = build_similarity_matrix(sentences, stop_words) \n",
    "    sentence_ranks = pagerank(S)\n",
    " \n",
    "    # Sort the sentence ranks\n",
    "    ranked_sentence_indexes = [item[0] for item in sorted(enumerate(sentence_ranks), key=lambda item: -item[1])]\n",
    "    selected_sentences = sorted(ranked_sentence_indexes[:top_n])\n",
    "    summary = itemgetter(*selected_sentences)(sentences)\n",
    "    return summary\n",
    "for idx, sentence in enumerate(textrank(sentences, stopwords=stopwords.words('english'))):\n",
    "    print(\"%s. %s\" % ((idx + 1), ' '.join(sentence)))"
   ]
  },
  {
   "cell_type": "code",
   "execution_count": null,
   "metadata": {},
   "outputs": [],
   "source": []
  },
  {
   "cell_type": "code",
   "execution_count": null,
   "metadata": {},
   "outputs": [],
   "source": []
  }
 ],
 "metadata": {
  "kernelspec": {
   "display_name": "Python 3",
   "language": "python",
   "name": "python3"
  },
  "language_info": {
   "codemirror_mode": {
    "name": "ipython",
    "version": 3
   },
   "file_extension": ".py",
   "mimetype": "text/x-python",
   "name": "python",
   "nbconvert_exporter": "python",
   "pygments_lexer": "ipython3",
   "version": "3.6.6"
  }
 },
 "nbformat": 4,
 "nbformat_minor": 2
}
